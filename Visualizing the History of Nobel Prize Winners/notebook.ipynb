{
 "cells": [
  {
   "cell_type": "markdown",
   "id": "db5bd2ce-918a-4f7d-a927-a3ea74c4b456",
   "metadata": {},
   "source": [
    "The Nobel Prize has been among the most prestigious international awards since 1901. Each year, awards are bestowed in chemistry, literature, physics, physiology or medicine, economics, and peace. In addition to the honor, prestige, and substantial prize money, the recipient also gets a gold medal with an image of Alfred Nobel (1833 - 1896), who established the prize.\n",
    "\n",
    "![](Nobel_Prize.png)\n",
    "\n",
    "The Nobel Foundation has made a dataset available of all prize winners from the outset of the awards from 1901 to 2023. The dataset used in this project is from the Nobel Prize API and is available in the `nobel.csv` file in the `data` folder.\n",
    "\n",
    "In this project, you'll get a chance to explore and answer several questions related to this prizewinning data. And we encourage you then to explore further questions that you're interested in!"
   ]
  },
  {
   "cell_type": "code",
   "execution_count": 29,
   "id": "11fd5946-7bd1-495c-aa7f-ff6e7e4a350b",
   "metadata": {},
   "outputs": [
    {
     "data": {
      "text/html": [
       "<div>\n",
       "<style scoped>\n",
       "    .dataframe tbody tr th:only-of-type {\n",
       "        vertical-align: middle;\n",
       "    }\n",
       "\n",
       "    .dataframe tbody tr th {\n",
       "        vertical-align: top;\n",
       "    }\n",
       "\n",
       "    .dataframe thead th {\n",
       "        text-align: right;\n",
       "    }\n",
       "</style>\n",
       "<table border=\"1\" class=\"dataframe\">\n",
       "  <thead>\n",
       "    <tr style=\"text-align: right;\">\n",
       "      <th></th>\n",
       "      <th>year</th>\n",
       "      <th>category</th>\n",
       "      <th>prize</th>\n",
       "      <th>motivation</th>\n",
       "      <th>prize_share</th>\n",
       "      <th>laureate_id</th>\n",
       "      <th>laureate_type</th>\n",
       "      <th>full_name</th>\n",
       "      <th>birth_date</th>\n",
       "      <th>birth_city</th>\n",
       "      <th>birth_country</th>\n",
       "      <th>sex</th>\n",
       "      <th>organization_name</th>\n",
       "      <th>organization_city</th>\n",
       "      <th>organization_country</th>\n",
       "      <th>death_date</th>\n",
       "      <th>death_city</th>\n",
       "      <th>death_country</th>\n",
       "    </tr>\n",
       "  </thead>\n",
       "  <tbody>\n",
       "    <tr>\n",
       "      <th>0</th>\n",
       "      <td>1901</td>\n",
       "      <td>Chemistry</td>\n",
       "      <td>The Nobel Prize in Chemistry 1901</td>\n",
       "      <td>\"in recognition of the extraordinary services ...</td>\n",
       "      <td>1/1</td>\n",
       "      <td>160</td>\n",
       "      <td>Individual</td>\n",
       "      <td>Jacobus Henricus van 't Hoff</td>\n",
       "      <td>1852-08-30</td>\n",
       "      <td>Rotterdam</td>\n",
       "      <td>Netherlands</td>\n",
       "      <td>Male</td>\n",
       "      <td>Berlin University</td>\n",
       "      <td>Berlin</td>\n",
       "      <td>Germany</td>\n",
       "      <td>1911-03-01</td>\n",
       "      <td>Berlin</td>\n",
       "      <td>Germany</td>\n",
       "    </tr>\n",
       "    <tr>\n",
       "      <th>1</th>\n",
       "      <td>1901</td>\n",
       "      <td>Literature</td>\n",
       "      <td>The Nobel Prize in Literature 1901</td>\n",
       "      <td>\"in special recognition of his poetic composit...</td>\n",
       "      <td>1/1</td>\n",
       "      <td>569</td>\n",
       "      <td>Individual</td>\n",
       "      <td>Sully Prudhomme</td>\n",
       "      <td>1839-03-16</td>\n",
       "      <td>Paris</td>\n",
       "      <td>France</td>\n",
       "      <td>Male</td>\n",
       "      <td>NaN</td>\n",
       "      <td>NaN</td>\n",
       "      <td>NaN</td>\n",
       "      <td>1907-09-07</td>\n",
       "      <td>Châtenay</td>\n",
       "      <td>France</td>\n",
       "    </tr>\n",
       "    <tr>\n",
       "      <th>2</th>\n",
       "      <td>1901</td>\n",
       "      <td>Medicine</td>\n",
       "      <td>The Nobel Prize in Physiology or Medicine 1901</td>\n",
       "      <td>\"for his work on serum therapy, especially its...</td>\n",
       "      <td>1/1</td>\n",
       "      <td>293</td>\n",
       "      <td>Individual</td>\n",
       "      <td>Emil Adolf von Behring</td>\n",
       "      <td>1854-03-15</td>\n",
       "      <td>Hansdorf (Lawice)</td>\n",
       "      <td>Prussia (Poland)</td>\n",
       "      <td>Male</td>\n",
       "      <td>Marburg University</td>\n",
       "      <td>Marburg</td>\n",
       "      <td>Germany</td>\n",
       "      <td>1917-03-31</td>\n",
       "      <td>Marburg</td>\n",
       "      <td>Germany</td>\n",
       "    </tr>\n",
       "    <tr>\n",
       "      <th>3</th>\n",
       "      <td>1901</td>\n",
       "      <td>Peace</td>\n",
       "      <td>The Nobel Peace Prize 1901</td>\n",
       "      <td>NaN</td>\n",
       "      <td>1/2</td>\n",
       "      <td>462</td>\n",
       "      <td>Individual</td>\n",
       "      <td>Jean Henry Dunant</td>\n",
       "      <td>1828-05-08</td>\n",
       "      <td>Geneva</td>\n",
       "      <td>Switzerland</td>\n",
       "      <td>Male</td>\n",
       "      <td>NaN</td>\n",
       "      <td>NaN</td>\n",
       "      <td>NaN</td>\n",
       "      <td>1910-10-30</td>\n",
       "      <td>Heiden</td>\n",
       "      <td>Switzerland</td>\n",
       "    </tr>\n",
       "    <tr>\n",
       "      <th>4</th>\n",
       "      <td>1901</td>\n",
       "      <td>Peace</td>\n",
       "      <td>The Nobel Peace Prize 1901</td>\n",
       "      <td>NaN</td>\n",
       "      <td>1/2</td>\n",
       "      <td>463</td>\n",
       "      <td>Individual</td>\n",
       "      <td>Frédéric Passy</td>\n",
       "      <td>1822-05-20</td>\n",
       "      <td>Paris</td>\n",
       "      <td>France</td>\n",
       "      <td>Male</td>\n",
       "      <td>NaN</td>\n",
       "      <td>NaN</td>\n",
       "      <td>NaN</td>\n",
       "      <td>1912-06-12</td>\n",
       "      <td>Paris</td>\n",
       "      <td>France</td>\n",
       "    </tr>\n",
       "  </tbody>\n",
       "</table>\n",
       "</div>"
      ],
      "text/plain": [
       "   year    category                                           prize  \\\n",
       "0  1901   Chemistry               The Nobel Prize in Chemistry 1901   \n",
       "1  1901  Literature              The Nobel Prize in Literature 1901   \n",
       "2  1901    Medicine  The Nobel Prize in Physiology or Medicine 1901   \n",
       "3  1901       Peace                      The Nobel Peace Prize 1901   \n",
       "4  1901       Peace                      The Nobel Peace Prize 1901   \n",
       "\n",
       "                                          motivation prize_share  laureate_id  \\\n",
       "0  \"in recognition of the extraordinary services ...         1/1          160   \n",
       "1  \"in special recognition of his poetic composit...         1/1          569   \n",
       "2  \"for his work on serum therapy, especially its...         1/1          293   \n",
       "3                                                NaN         1/2          462   \n",
       "4                                                NaN         1/2          463   \n",
       "\n",
       "  laureate_type                     full_name  birth_date         birth_city  \\\n",
       "0    Individual  Jacobus Henricus van 't Hoff  1852-08-30          Rotterdam   \n",
       "1    Individual               Sully Prudhomme  1839-03-16              Paris   \n",
       "2    Individual        Emil Adolf von Behring  1854-03-15  Hansdorf (Lawice)   \n",
       "3    Individual             Jean Henry Dunant  1828-05-08             Geneva   \n",
       "4    Individual                Frédéric Passy  1822-05-20              Paris   \n",
       "\n",
       "      birth_country   sex   organization_name organization_city  \\\n",
       "0       Netherlands  Male   Berlin University            Berlin   \n",
       "1            France  Male                 NaN               NaN   \n",
       "2  Prussia (Poland)  Male  Marburg University           Marburg   \n",
       "3       Switzerland  Male                 NaN               NaN   \n",
       "4            France  Male                 NaN               NaN   \n",
       "\n",
       "  organization_country  death_date death_city death_country  \n",
       "0              Germany  1911-03-01     Berlin       Germany  \n",
       "1                  NaN  1907-09-07   Châtenay        France  \n",
       "2              Germany  1917-03-31    Marburg       Germany  \n",
       "3                  NaN  1910-10-30     Heiden   Switzerland  \n",
       "4                  NaN  1912-06-12      Paris        France  "
      ]
     },
     "execution_count": 29,
     "metadata": {},
     "output_type": "execute_result"
    }
   ],
   "source": [
    "# Loading in required libraries\n",
    "import pandas as pd\n",
    "import seaborn as sns\n",
    "import numpy as np\n",
    "import matplotlib.pyplot as plt\n",
    "\n",
    "# load the dataset\n",
    "nobel = pd.read_csv('./data/nobel.csv')\n",
    "\n",
    "# Print the first few rows\n",
    "nobel.head()\n",
    "\n"
   ]
  },
  {
   "cell_type": "markdown",
   "id": "39d32ded",
   "metadata": {},
   "source": [
    "#### What is the most commonly awarded gender and birth country?\n"
   ]
  },
  {
   "cell_type": "code",
   "execution_count": 43,
   "id": "e808a201",
   "metadata": {},
   "outputs": [
    {
     "name": "stdout",
     "output_type": "stream",
     "text": [
      "Most commonly awarded gender: Male\n"
     ]
    },
    {
     "data": {
      "image/png": "[encoded data removed]",
      "text/plain": [
       "<Figure size 640x480 with 1 Axes>"
      ]
     },
     "metadata": {},
     "output_type": "display_data"
    }
   ],
   "source": [
    "# Get the number of nobel prize winners per gender\n",
    "gender_counts = nobel['sex'].value_counts()\n",
    "\n",
    "# Store the gender with the most nobel prize winners\n",
    "top_gender = gender_counts.idxmax()\n",
    "\n",
    "# Display the result\n",
    "print(\"Most commonly awarded gender: \" + top_gender)\n",
    "\n",
    "# Count plot of the nobel prize winners by gender\n",
    "sns.countplot(x=\"sex\",data=nobel)\n",
    "plt.title(\"No. of nobel prize winners by gender\")\n",
    "plt.show()\n"
   ]
  },
  {
   "cell_type": "code",
   "execution_count": 46,
   "id": "c1356713",
   "metadata": {},
   "outputs": [
    {
     "name": "stdout",
     "output_type": "stream",
     "text": [
      "Most commonly awarded birth country: United States of America\n"
     ]
    },
    {
     "data": {
      "image/png": "[encoded data removed]",
      "text/plain": [
       "<Figure size 640x480 with 1 Axes>"
      ]
     },
     "metadata": {},
     "output_type": "display_data"
    }
   ],
   "source": [
    "# Get the number of nobel prize winners per birth country\n",
    "country_counts = nobel['birth_country'].value_counts().head(10)\n",
    "\n",
    "# Store the birth country with the most nobel prize winners\n",
    "top_country = country_counts.idxmax()\n",
    "\n",
    "# Bar plot of the top 10 birth countries with the most nobel prize winners\n",
    "print(\"Most commonly awarded birth country: \"+ top_country)\n",
    "country_counts.plot(kind=\"bar\")\n",
    "plt.title(\"No. of nobel prize winners by birth country (top 10)\")\n",
    "plt.show()"
   ]
  },
  {
   "cell_type": "markdown",
   "id": "1fe32957",
   "metadata": {},
   "source": [
    "#### Which decade had the highest ratio of US-born Nobel Prize winners to total winners in all categories?"
   ]
  },
  {
   "cell_type": "code",
   "execution_count": 86,
   "id": "48252d4a",
   "metadata": {},
   "outputs": [
    {
     "name": "stdout",
     "output_type": "stream",
     "text": [
      "Decade with the highest ratio of US-born winners: 2000\n",
      "Ratio: 0.7323943661971831\n"
     ]
    },
    {
     "data": {
      "text/html": [
       "<div>\n",
       "<style scoped>\n",
       "    .dataframe tbody tr th:only-of-type {\n",
       "        vertical-align: middle;\n",
       "    }\n",
       "\n",
       "    .dataframe tbody tr th {\n",
       "        vertical-align: top;\n",
       "    }\n",
       "\n",
       "    .dataframe thead th {\n",
       "        text-align: right;\n",
       "    }\n",
       "</style>\n",
       "<table border=\"1\" class=\"dataframe\">\n",
       "  <thead>\n",
       "    <tr style=\"text-align: right;\">\n",
       "      <th></th>\n",
       "      <th>usa_nobel_count</th>\n",
       "      <th>total_nobel_count</th>\n",
       "      <th>ratio</th>\n",
       "    </tr>\n",
       "    <tr>\n",
       "      <th>decade</th>\n",
       "      <th></th>\n",
       "      <th></th>\n",
       "      <th></th>\n",
       "    </tr>\n",
       "  </thead>\n",
       "  <tbody>\n",
       "    <tr>\n",
       "      <th>1900</th>\n",
       "      <td>1</td>\n",
       "      <td>57</td>\n",
       "      <td>0.017857</td>\n",
       "    </tr>\n",
       "    <tr>\n",
       "      <th>1910</th>\n",
       "      <td>3</td>\n",
       "      <td>40</td>\n",
       "      <td>0.081081</td>\n",
       "    </tr>\n",
       "    <tr>\n",
       "      <th>1920</th>\n",
       "      <td>4</td>\n",
       "      <td>54</td>\n",
       "      <td>0.080000</td>\n",
       "    </tr>\n",
       "    <tr>\n",
       "      <th>1930</th>\n",
       "      <td>14</td>\n",
       "      <td>56</td>\n",
       "      <td>0.333333</td>\n",
       "    </tr>\n",
       "    <tr>\n",
       "      <th>1940</th>\n",
       "      <td>13</td>\n",
       "      <td>43</td>\n",
       "      <td>0.433333</td>\n",
       "    </tr>\n",
       "    <tr>\n",
       "      <th>1950</th>\n",
       "      <td>21</td>\n",
       "      <td>72</td>\n",
       "      <td>0.411765</td>\n",
       "    </tr>\n",
       "    <tr>\n",
       "      <th>1960</th>\n",
       "      <td>21</td>\n",
       "      <td>79</td>\n",
       "      <td>0.362069</td>\n",
       "    </tr>\n",
       "    <tr>\n",
       "      <th>1970</th>\n",
       "      <td>33</td>\n",
       "      <td>104</td>\n",
       "      <td>0.464789</td>\n",
       "    </tr>\n",
       "    <tr>\n",
       "      <th>1980</th>\n",
       "      <td>31</td>\n",
       "      <td>97</td>\n",
       "      <td>0.469697</td>\n",
       "    </tr>\n",
       "    <tr>\n",
       "      <th>1990</th>\n",
       "      <td>42</td>\n",
       "      <td>104</td>\n",
       "      <td>0.677419</td>\n",
       "    </tr>\n",
       "    <tr>\n",
       "      <th>2000</th>\n",
       "      <td>52</td>\n",
       "      <td>123</td>\n",
       "      <td>0.732394</td>\n",
       "    </tr>\n",
       "    <tr>\n",
       "      <th>2010</th>\n",
       "      <td>38</td>\n",
       "      <td>121</td>\n",
       "      <td>0.457831</td>\n",
       "    </tr>\n",
       "    <tr>\n",
       "      <th>2020</th>\n",
       "      <td>18</td>\n",
       "      <td>50</td>\n",
       "      <td>0.562500</td>\n",
       "    </tr>\n",
       "  </tbody>\n",
       "</table>\n",
       "</div>"
      ],
      "text/plain": [
       "        usa_nobel_count  total_nobel_count     ratio\n",
       "decade                                              \n",
       "1900                  1                 57  0.017857\n",
       "1910                  3                 40  0.081081\n",
       "1920                  4                 54  0.080000\n",
       "1930                 14                 56  0.333333\n",
       "1940                 13                 43  0.433333\n",
       "1950                 21                 72  0.411765\n",
       "1960                 21                 79  0.362069\n",
       "1970                 33                104  0.464789\n",
       "1980                 31                 97  0.469697\n",
       "1990                 42                104  0.677419\n",
       "2000                 52                123  0.732394\n",
       "2010                 38                121  0.457831\n",
       "2020                 18                 50  0.562500"
      ]
     },
     "execution_count": 86,
     "metadata": {},
     "output_type": "execute_result"
    }
   ],
   "source": [
    "# Create a decade column to store the decade where the year belongs\n",
    "nobel[\"decade\"] = nobel[\"year\"] // 10 * 10\n",
    "\n",
    "# Subset the nobel prize winners born in the USA\n",
    "usa_nobels = nobel[nobel[\"birth_country\"] == \"United States of America\"]\n",
    "\n",
    "# Get the total number of us-born nobel prize winners per decade\n",
    "usa_nobels_per_decade = usa_nobels.groupby(\"decade\").agg({\"laureate_id\": \"count\"})\n",
    "\n",
    "# Get the total number of nobel prize winners per decade\n",
    "total_nobels_per_decade = nobel.groupby(\"decade\").agg({\"laureate_id\":\"count\"})\n",
    "\n",
    "# Create a dataframe to store the no. of nobel winners in the usa and total\n",
    "ratios = pd.DataFrame({\n",
    "    \"usa_nobel_count\": usa_nobels_per_decade[\"laureate_id\"],\n",
    "    \"total_nobel_count\": total_nobels_per_decade[\"laureate_id\"]\n",
    "})\n",
    "\n",
    "# Compute the ratio\n",
    "ratios[\"ratio\"] = ratios[\"usa_nobel_count\"] / (ratios[\"total_nobel_count\"] - ratios[\"usa_nobel_count\"])\n",
    "\n",
    "# Get the value of the decade with the highest ratio\n",
    "max_decade_usa = ratios[\"ratio\"].idxmax()\n",
    "\n",
    "print(\"Decade with the highest ratio of US-born winners: \" + str(max_decade_usa))\n",
    "print(\"Ratio: \" + str(ratios[\"ratio\"].max()))\n",
    "ratios\n"
   ]
  },
  {
   "cell_type": "markdown",
   "id": "92391484",
   "metadata": {},
   "source": [
    "#### Which decade and Nobel Prize category combination had the highest proportion of female laureates?"
   ]
  },
  {
   "cell_type": "code",
   "execution_count": 133,
   "id": "427c9a69",
   "metadata": {},
   "outputs": [
    {
     "name": "stdout",
     "output_type": "stream",
     "text": [
      "Decade and Category Combination with highest proportion of female laureates: 2020 and Literature\n"
     ]
    }
   ],
   "source": [
    "# Get all rows with female laureates\n",
    "female_laureates = nobel[nobel[\"sex\"] == \"Female\"]\n",
    "\n",
    "# Count all female laureates per decade + category combination\n",
    "females_per_decade_categ= female_laureates.groupby([\"decade\",\"category\"]).agg({\"laureate_id\": \"count\"})\n",
    "\n",
    "# Count all laureates per decade + category combination\n",
    "total_per_decade_categ = nobel.groupby([\"decade\",\"category\"]).agg({\"laureate_id\": \"count\"})\n",
    "\n",
    "# Compute the proportion\n",
    "females_per_decade_categ[\"proportion\"] = females_per_decade_categ[\"laureate_id\"] / total_per_decade_categ[\"laureate_id\"]\n",
    "\n",
    "# Retrieve the decade + category with the highest female proportion\n",
    "max_female = females_per_decade_categ.loc[[females_per_decade_categ[\"proportion\"].idxmax()]]\n",
    "\n",
    "# Store the decade and category in a dictionary\n",
    "max_female_dict = {max_female.index[0][0]: max_female.index[0][1]}\n",
    "\n",
    "# Extract the key-value pair for display\n",
    "key, value = list(max_female_dict.items())[0]\n",
    "\n",
    "print(\"Decade and Category Combination with highest proportion of female laureates: \" + str(key) + \" and \" + value)\n",
    "\n",
    "\n"
   ]
  },
  {
   "cell_type": "markdown",
   "id": "065a4ba0",
   "metadata": {},
   "source": [
    "#### Who was the first woman to receive a Nobel Prize, and in what category?"
   ]
  },
  {
   "cell_type": "code",
   "execution_count": null,
   "id": "63d95aa0",
   "metadata": {},
   "outputs": [
    {
     "name": "stdout",
     "output_type": "stream",
     "text": [
      "Name of first female laureate: Marie Curie, née Sklodowska\n",
      "Category: Physics\n"
     ]
    }
   ],
   "source": [
    "# Get the first row among the female laureates dataframe\n",
    "first_woman = female_laureates.iloc[[0]]\n",
    "\n",
    "# Store the name and category from the extracted row\n",
    "first_woman_name = first_woman[\"full_name\"].iloc[0]\n",
    "first_woman_category = first_woman[\"category\"].iloc[0]\n",
    "\n",
    "# Display the information\n",
    "print(\"Name of first female laureate: \" + first_woman_name)\n",
    "print(\"Category: \" + first_woman_category)"
   ]
  },
  {
   "cell_type": "markdown",
   "id": "e734e420",
   "metadata": {},
   "source": [
    "#### Which individuals or organizations have won more than one Nobel Prize throughout the years?"
   ]
  },
  {
   "cell_type": "code",
   "execution_count": 132,
   "id": "e7cb3715",
   "metadata": {},
   "outputs": [
    {
     "data": {
      "text/plain": [
       "['Comité international de la Croix Rouge (International Committee of the Red Cross)',\n",
       " 'Frederick Sanger',\n",
       " 'Marie Curie, née Sklodowska',\n",
       " 'Office of the United Nations High Commissioner for Refugees (UNHCR)',\n",
       " 'John Bardeen',\n",
       " 'Linus Carl Pauling']"
      ]
     },
     "execution_count": 132,
     "metadata": {},
     "output_type": "execute_result"
    }
   ],
   "source": [
    "# Initialize the list\n",
    "repeat_list = []\n",
    "\n",
    "# Count the instances of each individual\n",
    "individuals_counts= nobel[\"full_name\"].value_counts()\n",
    "\n",
    "# Filter the data based on individuals that had occurences > 1\n",
    "repeating_individuals = individuals_counts[individuals_counts > 1]\n",
    "\n",
    "# Add the filtered data to the list\n",
    "repeat_list.extend(repeating_individuals.index.tolist())\n",
    "\n",
    "repeat_list\n",
    "\n",
    "\n",
    "\n",
    "\n"
   ]
  },
  {
   "cell_type": "code",
   "execution_count": null,
   "id": "1799b71c",
   "metadata": {},
   "outputs": [],
   "source": []
  }
 ],
 "metadata": {
  "editor": "DataCamp Workspace",
  "kernelspec": {
   "display_name": "venv",
   "language": "python",
   "name": "python3"
  },
  "language_info": {
   "codemirror_mode": {
    "name": "ipython",
    "version": 3
   },
   "file_extension": ".py",
   "mimetype": "text/x-python",
   "name": "python",
   "nbconvert_exporter": "python",
   "pygments_lexer": "ipython3",
   "version": "3.13.0"
  }
 },
 "nbformat": 4,
 "nbformat_minor": 5
}
