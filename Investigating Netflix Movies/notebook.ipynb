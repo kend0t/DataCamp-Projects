{
 "cells": [
  {
   "cell_type": "markdown",
   "id": "5962b2cd-17bb-4ec9-b2d5-68537ca26860",
   "metadata": {},
   "source": [
    "**Netflix**! What started in 1997 as a DVD rental service has since exploded into one of the largest entertainment and media companies.\n",
    "\n",
    "Given the large number of movies and series available on the platform, it is a perfect opportunity to flex your exploratory data analysis skills and dive into the entertainment industry.\n",
    "\n",
    "You work for a production company that specializes in nostalgic styles. You want to do some research on movies released in the 1990's. You'll delve into Netflix data and perform exploratory data analysis to better understand this awesome movie decade!\n",
    "\n",
    "You have been supplied with the dataset `netflix_data.csv`, along with the following table detailing the column names and descriptions. Feel free to experiment further after submitting!\n",
    "\n",
    "## The data\n",
    "### **netflix_data.csv**\n",
    "| Column | Description |\n",
    "|--------|-------------|\n",
    "| `show_id` | The ID of the show |\n",
    "| `type` | Type of show |\n",
    "| `title` | Title of the show |\n",
    "| `director` | Director of the show |\n",
    "| `cast` | Cast of the show |\n",
    "| `country` | Country of origin |\n",
    "| `date_added` | Date added to Netflix |\n",
    "| `release_year` | Year of Netflix release |\n",
    "| `duration` | Duration of the show in minutes |\n",
    "| `description` | Description of the show |\n",
    "| `genre` | Show genre |"
   ]
  },
  {
   "cell_type": "code",
   "execution_count": 11,
   "id": "320a3abc-8a36-4b2b-baaf-473325363a4d",
   "metadata": {
    "executionCancelledAt": null,
    "executionTime": 36,
    "lastExecutedAt": 1716304519424,
    "lastExecutedByKernel": "0d939945-001f-4d0d-a547-a84889cb9c27",
    "lastScheduledRunId": null,
    "lastSuccessfullyExecutedCode": "# Importing pandas and matplotlib\nimport pandas as pd\nimport matplotlib.pyplot as plt\n\n# Read in the Netflix CSV as a DataFrame\nnetflix_df = pd.read_csv(\"netflix_data.csv\")"
   },
   "outputs": [],
   "source": [
    "# Importing pandas and matplotlib\n",
    "import pandas as pd\n",
    "import matplotlib.pyplot as plt\n",
    "\n",
    "# Read in the Netflix CSV as a DataFrame\n",
    "netflix_df = pd.read_csv(\"netflix_data.csv\", index_col=0)"
   ]
  },
  {
   "cell_type": "markdown",
   "id": "acae1805",
   "metadata": {},
   "source": [
    "### Task 1: What was the most frequent movie duration in the 1990s?"
   ]
  },
  {
   "cell_type": "code",
   "execution_count": 31,
   "id": "72658473-114f-49eb-bd4e-cc03c710834a",
   "metadata": {
    "executionCancelledAt": null,
    "executionTime": 9,
    "lastExecutedAt": 1716304521330,
    "lastExecutedByKernel": "0d939945-001f-4d0d-a547-a84889cb9c27",
    "lastScheduledRunId": null,
    "lastSuccessfullyExecutedCode": "# Start coding here! Use as many cells as you like"
   },
   "outputs": [],
   "source": [
    "# Start coding here! Use as many cells as you like\n",
    "\n",
    "# Getting all rows of data with release year of 1990 onwards\n",
    "netflix_1990s = (netflix_df['release_year'] >= 1990) & (netflix_df['release_year'] <= 1999)\n",
    "\n",
    "# Create a sub-dataframe that consists of the filtered rows\n",
    "filtered_netflix_df = netflix_df[netflix_1990s]\n"
   ]
  },
  {
   "cell_type": "code",
   "execution_count": 32,
   "id": "a6c13b0b",
   "metadata": {},
   "outputs": [
    {
     "name": "stdout",
     "output_type": "stream",
     "text": [
      "Most Frequent Movie Duration: 94 minutes.\n"
     ]
    }
   ],
   "source": [
    "# Get the number of occurrences for each unique movie duration\n",
    "movie_duration_counts = filtered_netflix_df['duration'].value_counts()\n",
    "\n",
    "# Get the duration with the highest count\n",
    "duration = movie_duration_counts.idxmax()\n",
    "print(\"Most Frequent Movie Duration: \" + str(duration) + \" minutes.\")"
   ]
  },
  {
   "cell_type": "markdown",
   "id": "6da80457",
   "metadata": {},
   "source": [
    "### Task 2: Count the number of short action movies released in the 1990s."
   ]
  },
  {
   "cell_type": "code",
   "execution_count": 34,
   "id": "71ce9dd2",
   "metadata": {},
   "outputs": [
    {
     "name": "stdout",
     "output_type": "stream",
     "text": [
      "['Dramas' 'Horror Movies' 'Action' 'International TV' 'Documentaries'\n",
      " 'Independent Movies' 'Comedies' 'Sci-Fi' 'International Movies'\n",
      " 'Children' 'TV Shows' 'Uncategorized' 'Classic Movies' 'Thrillers'\n",
      " 'Stand-Up' 'Anime Features' 'Music' 'Anime Series' 'Kids' 'Docuseries'\n",
      " 'Crime TV' 'British TV' 'Cult Movies' 'TV Action' 'Romantic TV'\n",
      " 'TV Horror' 'Romantic Movies' 'TV Comedies' 'Classic' 'Reality TV'\n",
      " 'LGBTQ Movies']\n"
     ]
    }
   ],
   "source": [
    "# Determining the naming convention for the genre column\n",
    "print(netflix_df['genre'].unique())"
   ]
  },
  {
   "cell_type": "code",
   "execution_count": 35,
   "id": "13b4cc9e",
   "metadata": {},
   "outputs": [
    {
     "name": "stdout",
     "output_type": "stream",
     "text": [
      "Number of Short Action Movies: 7\n"
     ]
    }
   ],
   "source": [
    "# Getting all action movies with duration less than 90 minutes\n",
    "short_movies = (filtered_netflix_df['duration'] < 90) & (filtered_netflix_df['genre'] == \"Action\")\n",
    "\n",
    "# Create a sub-dataframe that consists of the filtered rows\n",
    "short_movies_df = filtered_netflix_df[short_movies]\n",
    "\n",
    "# Store the number of short action movies\n",
    "short_movie_count = len(short_movies_df)\n",
    "\n",
    "print(\"Number of Short Action Movies: \" + str(short_movie_count))\n",
    "\n",
    "\n"
   ]
  }
 ],
 "metadata": {
  "colab": {
   "name": "Welcome to DataCamp Workspaces.ipynb",
   "provenance": []
  },
  "editor": "DataLab",
  "kernelspec": {
   "display_name": "RNN-LABEX",
   "language": "python",
   "name": "venv"
  },
  "language_info": {
   "codemirror_mode": {
    "name": "ipython",
    "version": 3
   },
   "file_extension": ".py",
   "mimetype": "text/x-python",
   "name": "python",
   "nbconvert_exporter": "python",
   "pygments_lexer": "ipython3",
   "version": "3.11.0"
  }
 },
 "nbformat": 4,
 "nbformat_minor": 5
}
