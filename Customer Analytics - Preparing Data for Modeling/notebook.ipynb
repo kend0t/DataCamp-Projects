{
 "cells": [
  {
   "cell_type": "markdown",
   "id": "a09e6d54-bf3f-4632-b299-bd49d5c80d5f",
   "metadata": {},
   "source": [
    "![Two data scientists working on a dashboard.](hr-image-small.png)\n",
    "\n",
    "A common problem when creating models to generate business value from data is that the datasets can be so large that it can take days for the model to generate predictions. Ensuring that your dataset is stored as efficiently as possible is crucial for allowing these models to run on a more reasonable timescale without having to reduce the size of the dataset.\n",
    "\n",
    "You've been hired by a major online data science training provider called *Training Data Ltd.* to clean up one of their largest customer datasets. This dataset will eventually be used to predict whether their students are looking for a new job or not, information that they will then use to direct them to prospective recruiters.\n",
    "\n",
    "You've been given access to `customer_train.csv`, which is a subset of their entire customer dataset, so you can create a proof-of-concept of a much more efficient storage solution. The dataset contains anonymized student information, and whether they were looking for a new job or not during training:\n",
    "\n",
    "| Column                   | Description                                                                      |\n",
    "|------------------------- |--------------------------------------------------------------------------------- |\n",
    "| `student_id`             | A unique ID for each student.                                                    |\n",
    "| `city`                   | A code for the city the student lives in.                                        |\n",
    "| `city_development_index` | A scaled development index for the city.                                         |\n",
    "| `gender`                 | The student's gender.                                                            |\n",
    "| `relevant_experience`    | An indicator of the student's work relevant experience.                          |\n",
    "| `enrolled_university`    | The type of university course enrolled in (if any).                              |\n",
    "| `education_level`        | The student's education level.                                                   |\n",
    "| `major_discipline`       | The educational discipline of the student.                                       |\n",
    "| `experience`             | The student's total work experience (in years).                                  |\n",
    "| `company_size`           | The number of employees at the student's current employer.                       |\n",
    "| `company_type`           | The type of company employing the student.                                       |\n",
    "| `last_new_job`           | The number of years between the student's current and previous jobs.             |\n",
    "| `training_hours`         | The number of hours of training completed.                                       |\n",
    "| `job_change`             | An indicator of whether the student is looking for a new job (`1`) or not (`0`). |"
   ]
  },
  {
   "cell_type": "markdown",
   "id": "1d5edc7c",
   "metadata": {},
   "source": [
    "### Project Requirements:\n",
    " - Columns containing categories with only two factors must be stored as Booleans (bool).\n",
    " - Columns containing integers only must be stored as 32-bit integers (int32).\n",
    " - Columns containing floats must be stored as 16-bit floats (float16).\n",
    " - Columns containing nominal categorical data must be stored as the category data type.\n",
    " - Columns containing ordinal categorical data must be stored as ordered categories, and not mapped to numerical values, with an order that reflects the natural order of the column.\n",
    " - The DataFrame should be filtered to only contain students with 10 or more years of experience at companies with at least 1000 employees, as their recruiter base is suited to more experienced professionals at enterprise companies."
   ]
  },
  {
   "cell_type": "code",
   "execution_count": 64,
   "id": "eda9c1b2-4e9a-41ac-8da6-d4c98775f986",
   "metadata": {
    "executionCancelledAt": null,
    "executionTime": null,
    "lastExecutedAt": null,
    "lastExecutedByKernel": null,
    "lastScheduledRunId": null,
    "lastSuccessfullyExecutedCode": null,
    "outputsMetadata": {
     "0": {
      "height": 550,
      "tableState": {},
      "type": "dataFrame"
     }
    }
   },
   "outputs": [
    {
     "data": {
      "text/html": [
       "<div>\n",
       "<style scoped>\n",
       "    .dataframe tbody tr th:only-of-type {\n",
       "        vertical-align: middle;\n",
       "    }\n",
       "\n",
       "    .dataframe tbody tr th {\n",
       "        vertical-align: top;\n",
       "    }\n",
       "\n",
       "    .dataframe thead th {\n",
       "        text-align: right;\n",
       "    }\n",
       "</style>\n",
       "<table border=\"1\" class=\"dataframe\">\n",
       "  <thead>\n",
       "    <tr style=\"text-align: right;\">\n",
       "      <th></th>\n",
       "      <th>student_id</th>\n",
       "      <th>city</th>\n",
       "      <th>city_development_index</th>\n",
       "      <th>gender</th>\n",
       "      <th>relevant_experience</th>\n",
       "      <th>enrolled_university</th>\n",
       "      <th>education_level</th>\n",
       "      <th>major_discipline</th>\n",
       "      <th>experience</th>\n",
       "      <th>company_size</th>\n",
       "      <th>company_type</th>\n",
       "      <th>last_new_job</th>\n",
       "      <th>training_hours</th>\n",
       "      <th>job_change</th>\n",
       "    </tr>\n",
       "  </thead>\n",
       "  <tbody>\n",
       "    <tr>\n",
       "      <th>0</th>\n",
       "      <td>8949</td>\n",
       "      <td>city_103</td>\n",
       "      <td>0.920</td>\n",
       "      <td>Male</td>\n",
       "      <td>Has relevant experience</td>\n",
       "      <td>no_enrollment</td>\n",
       "      <td>Graduate</td>\n",
       "      <td>STEM</td>\n",
       "      <td>&gt;20</td>\n",
       "      <td>NaN</td>\n",
       "      <td>NaN</td>\n",
       "      <td>1</td>\n",
       "      <td>36</td>\n",
       "      <td>1.0</td>\n",
       "    </tr>\n",
       "    <tr>\n",
       "      <th>1</th>\n",
       "      <td>29725</td>\n",
       "      <td>city_40</td>\n",
       "      <td>0.776</td>\n",
       "      <td>Male</td>\n",
       "      <td>No relevant experience</td>\n",
       "      <td>no_enrollment</td>\n",
       "      <td>Graduate</td>\n",
       "      <td>STEM</td>\n",
       "      <td>15</td>\n",
       "      <td>50-99</td>\n",
       "      <td>Pvt Ltd</td>\n",
       "      <td>&gt;4</td>\n",
       "      <td>47</td>\n",
       "      <td>0.0</td>\n",
       "    </tr>\n",
       "    <tr>\n",
       "      <th>2</th>\n",
       "      <td>11561</td>\n",
       "      <td>city_21</td>\n",
       "      <td>0.624</td>\n",
       "      <td>NaN</td>\n",
       "      <td>No relevant experience</td>\n",
       "      <td>Full time course</td>\n",
       "      <td>Graduate</td>\n",
       "      <td>STEM</td>\n",
       "      <td>5</td>\n",
       "      <td>NaN</td>\n",
       "      <td>NaN</td>\n",
       "      <td>never</td>\n",
       "      <td>83</td>\n",
       "      <td>0.0</td>\n",
       "    </tr>\n",
       "    <tr>\n",
       "      <th>3</th>\n",
       "      <td>33241</td>\n",
       "      <td>city_115</td>\n",
       "      <td>0.789</td>\n",
       "      <td>NaN</td>\n",
       "      <td>No relevant experience</td>\n",
       "      <td>NaN</td>\n",
       "      <td>Graduate</td>\n",
       "      <td>Business Degree</td>\n",
       "      <td>&lt;1</td>\n",
       "      <td>NaN</td>\n",
       "      <td>Pvt Ltd</td>\n",
       "      <td>never</td>\n",
       "      <td>52</td>\n",
       "      <td>1.0</td>\n",
       "    </tr>\n",
       "    <tr>\n",
       "      <th>4</th>\n",
       "      <td>666</td>\n",
       "      <td>city_162</td>\n",
       "      <td>0.767</td>\n",
       "      <td>Male</td>\n",
       "      <td>Has relevant experience</td>\n",
       "      <td>no_enrollment</td>\n",
       "      <td>Masters</td>\n",
       "      <td>STEM</td>\n",
       "      <td>&gt;20</td>\n",
       "      <td>50-99</td>\n",
       "      <td>Funded Startup</td>\n",
       "      <td>4</td>\n",
       "      <td>8</td>\n",
       "      <td>0.0</td>\n",
       "    </tr>\n",
       "  </tbody>\n",
       "</table>\n",
       "</div>"
      ],
      "text/plain": [
       "   student_id      city  city_development_index gender  \\\n",
       "0        8949  city_103                   0.920   Male   \n",
       "1       29725   city_40                   0.776   Male   \n",
       "2       11561   city_21                   0.624    NaN   \n",
       "3       33241  city_115                   0.789    NaN   \n",
       "4         666  city_162                   0.767   Male   \n",
       "\n",
       "       relevant_experience enrolled_university education_level  \\\n",
       "0  Has relevant experience       no_enrollment        Graduate   \n",
       "1   No relevant experience       no_enrollment        Graduate   \n",
       "2   No relevant experience    Full time course        Graduate   \n",
       "3   No relevant experience                 NaN        Graduate   \n",
       "4  Has relevant experience       no_enrollment         Masters   \n",
       "\n",
       "  major_discipline experience company_size    company_type last_new_job  \\\n",
       "0             STEM        >20          NaN             NaN            1   \n",
       "1             STEM         15        50-99         Pvt Ltd           >4   \n",
       "2             STEM          5          NaN             NaN        never   \n",
       "3  Business Degree         <1          NaN         Pvt Ltd        never   \n",
       "4             STEM        >20        50-99  Funded Startup            4   \n",
       "\n",
       "   training_hours  job_change  \n",
       "0              36         1.0  \n",
       "1              47         0.0  \n",
       "2              83         0.0  \n",
       "3              52         1.0  \n",
       "4               8         0.0  "
      ]
     },
     "execution_count": 64,
     "metadata": {},
     "output_type": "execute_result"
    }
   ],
   "source": [
    "# Import necessary libraries\n",
    "import pandas as pd\n",
    "import numpy as np\n",
    "\n",
    "# Load the dataset\n",
    "ds_jobs = pd.read_csv(\"customer_train.csv\")\n",
    "\n",
    "# View the dataset\n",
    "ds_jobs.head()"
   ]
  },
  {
   "cell_type": "code",
   "execution_count": 84,
   "id": "13757e62-aca2-48f4-b569-a838af11bdd5",
   "metadata": {},
   "outputs": [
    {
     "name": "stdout",
     "output_type": "stream",
     "text": [
      "student_id                  int64\n",
      "city                       object\n",
      "city_development_index    float64\n",
      "gender                     object\n",
      "relevant_experience        object\n",
      "enrolled_university        object\n",
      "education_level            object\n",
      "major_discipline           object\n",
      "experience                 object\n",
      "company_size               object\n",
      "company_type               object\n",
      "last_new_job               object\n",
      "training_hours              int64\n",
      "job_change                float64\n",
      "dtype: object\n"
     ]
    }
   ],
   "source": [
    "# Create a copy of ds_jobs for transforming\n",
    "ds_jobs_transformed = ds_jobs.copy()\n",
    "\n",
    "# Print the data types of each column\n",
    "print(ds_jobs_transformed.dtypes)\n",
    "\n"
   ]
  },
  {
   "cell_type": "code",
   "execution_count": null,
   "id": "c84dfbd7",
   "metadata": {},
   "outputs": [
    {
     "name": "stdout",
     "output_type": "stream",
     "text": [
      "student_id                   0\n",
      "city                         0\n",
      "city_development_index       0\n",
      "gender                    4508\n",
      "relevant_experience          0\n",
      "enrolled_university        386\n",
      "education_level            460\n",
      "major_discipline          2813\n",
      "experience                  65\n",
      "company_size              5938\n",
      "company_type              6140\n",
      "last_new_job               423\n",
      "training_hours               0\n",
      "job_change                   0\n",
      "dtype: int64\n"
     ]
    }
   ],
   "source": [
    "# Check which columns hava null values\n",
    "print(ds_jobs_transformed.isnull().sum())"
   ]
  },
  {
   "cell_type": "markdown",
   "id": "35e37b8d",
   "metadata": {},
   "source": [
    "##### Columns containing categories with only two factors must be stored as Booleans (bool)."
   ]
  },
  {
   "cell_type": "code",
   "execution_count": 86,
   "id": "dae14a28",
   "metadata": {},
   "outputs": [
    {
     "name": "stdout",
     "output_type": "stream",
     "text": [
      "student_id                19158\n",
      "city                        123\n",
      "city_development_index       93\n",
      "gender                        3\n",
      "relevant_experience           2\n",
      "enrolled_university           3\n",
      "education_level               5\n",
      "major_discipline              6\n",
      "experience                   22\n",
      "company_size                  8\n",
      "company_type                  6\n",
      "last_new_job                  6\n",
      "training_hours              241\n",
      "job_change                    2\n",
      "dtype: int64\n"
     ]
    }
   ],
   "source": [
    "# Determine which categorical columns have two values\n",
    "print(ds_jobs_transformed.nunique())"
   ]
  },
  {
   "cell_type": "code",
   "execution_count": 87,
   "id": "4cc1b397",
   "metadata": {},
   "outputs": [
    {
     "name": "stdout",
     "output_type": "stream",
     "text": [
      "relevant_experience\n",
      "Has relevant experience    13792\n",
      "No relevant experience      5366\n",
      "Name: count, dtype: int64\n",
      "job_change\n",
      "0.0    14381\n",
      "1.0     4777\n",
      "Name: count, dtype: int64\n"
     ]
    }
   ],
   "source": [
    "# Check the values of the columns with only two factors\n",
    "print(ds_jobs_transformed[\"relevant_experience\"].value_counts())\n",
    "print(ds_jobs_transformed[\"job_change\"].value_counts())"
   ]
  },
  {
   "cell_type": "code",
   "execution_count": 88,
   "id": "7ba63161",
   "metadata": {},
   "outputs": [
    {
     "name": "stdout",
     "output_type": "stream",
     "text": [
      "relevant_experience\n",
      "True     13792\n",
      "False     5366\n",
      "Name: count, dtype: int64\n",
      "job_change\n",
      "False    14381\n",
      "True      4777\n",
      "Name: count, dtype: int64\n",
      "relevant_experience    bool\n",
      "job_change             bool\n",
      "dtype: object\n"
     ]
    },
    {
     "name": "stderr",
     "output_type": "stream",
     "text": [
      "C:\\Users\\Kendot\\AppData\\Local\\Temp\\ipykernel_10212\\652304986.py:6: FutureWarning: Downcasting behavior in `replace` is deprecated and will be removed in a future version. To retain the old behavior, explicitly call `result.infer_objects(copy=False)`. To opt-in to the future behavior, set `pd.set_option('future.no_silent_downcasting', True)`\n",
      "  ds_jobs_transformed[\"relevant_experience\"] = ds_jobs_transformed[\"relevant_experience\"].replace(updated_relevant_experience)\n",
      "C:\\Users\\Kendot\\AppData\\Local\\Temp\\ipykernel_10212\\652304986.py:9: FutureWarning: Downcasting behavior in `replace` is deprecated and will be removed in a future version. To retain the old behavior, explicitly call `result.infer_objects(copy=False)`. To opt-in to the future behavior, set `pd.set_option('future.no_silent_downcasting', True)`\n",
      "  ds_jobs_transformed[\"job_change\"] = ds_jobs_transformed[\"job_change\"].replace(updated_job_change)\n"
     ]
    }
   ],
   "source": [
    "# Create a dictionary for the old value to new value pairs\n",
    "updated_relevant_experience = {\"Has relevant experience\": True, \"No relevant experience\": False}\n",
    "updated_job_change= {0.0: False, 1.0: True}\n",
    "\n",
    "# Update the current values of the relevant_experience column\n",
    "ds_jobs_transformed[\"relevant_experience\"] = ds_jobs_transformed[\"relevant_experience\"].replace(updated_relevant_experience)\n",
    "\n",
    "# Update the current values of the job_change column\n",
    "ds_jobs_transformed[\"job_change\"] = ds_jobs_transformed[\"job_change\"].replace(updated_job_change)\n",
    "\n",
    "# Check if the expected changes were done correctly\n",
    "print(ds_jobs_transformed[\"relevant_experience\"].value_counts())\n",
    "print(ds_jobs_transformed[\"job_change\"].value_counts())\n",
    "\n",
    "# Check if the column data type is now bool\n",
    "print(ds_jobs_transformed[[\"relevant_experience\",\"job_change\"]].dtypes)"
   ]
  },
  {
   "cell_type": "markdown",
   "id": "e8732f2c",
   "metadata": {},
   "source": [
    "##### Columns containing integers only must be stored as 32-bit integers (int32) and Columns containing floats must be stored as 16-bit floats (float16)."
   ]
  },
  {
   "cell_type": "code",
   "execution_count": null,
   "id": "01d8d312",
   "metadata": {},
   "outputs": [
    {
     "name": "stdout",
     "output_type": "stream",
     "text": [
      "student_id                  int32\n",
      "training_hours              int32\n",
      "city_development_index    float16\n",
      "dtype: object\n"
     ]
    }
   ],
   "source": [
    "# Change the datatype of student_id and training hours as int32\n",
    "ds_jobs_transformed[\"student_id\"] = ds_jobs_transformed[\"student_id\"].astype(\"int32\")\n",
    "ds_jobs_transformed[\"training_hours\"] = ds_jobs_transformed[\"training_hours\"].astype(\"int32\")\n",
    "\n",
    "# Change the datatype of city_development_index as float16\n",
    "ds_jobs_transformed[\"city_development_index\"] = ds_jobs_transformed[\"city_development_index\"].astype(\"float16\")\n",
    "\n",
    "# Verify if the changes were done\n",
    "print(ds_jobs_transformed[[\"student_id\",\"training_hours\",\"city_development_index\"]].dtypes)\n"
   ]
  },
  {
   "cell_type": "markdown",
   "id": "d8336077",
   "metadata": {},
   "source": [
    "##### Columns containing nominal categorical data must be stored as the category data type"
   ]
  },
  {
   "cell_type": "code",
   "execution_count": null,
   "id": "b689a2b5",
   "metadata": {},
   "outputs": [
    {
     "name": "stdout",
     "output_type": "stream",
     "text": [
      "gender\n",
      "Male                 1654\n",
      "Prefer not to say     380\n",
      "Female                145\n",
      "Other                  22\n",
      "Name: count, dtype: int64\n",
      "category\n"
     ]
    }
   ],
   "source": [
    "# Fill missing values\n",
    "ds_jobs_transformed[\"gender\"] = ds_jobs_transformed[\"gender\"].fillna(\"Prefer not to say\")\n",
    "\n",
    "# Check if there are no null values \n",
    "print(ds_jobs_transformed[\"gender\"].value_counts())\n",
    "\n",
    "# Change the datatype to category\n",
    "ds_jobs_transformed[\"gender\"] = ds_jobs_transformed[\"gender\"].astype(\"category\")\n",
    "\n",
    "# Check the datatype\n",
    "print(ds_jobs_transformed[\"gender\"].dtype)\n"
   ]
  },
  {
   "cell_type": "code",
   "execution_count": null,
   "id": "3af65d98",
   "metadata": {},
   "outputs": [
    {
     "name": "stdout",
     "output_type": "stream",
     "text": [
      "city\n",
      "city_103    4355\n",
      "city_21     2702\n",
      "city_16     1533\n",
      "city_114    1336\n",
      "city_160     845\n",
      "            ... \n",
      "city_111       3\n",
      "city_129       3\n",
      "city_121       3\n",
      "city_140       1\n",
      "city_171       1\n",
      "Name: count, Length: 123, dtype: int64\n",
      "category\n"
     ]
    }
   ],
   "source": [
    "print(ds_jobs_transformed[\"city\"].value_counts(dropna=False))\n",
    "\n",
    "# Change the datatype to category\n",
    "ds_jobs_transformed[\"city\"] = ds_jobs_transformed[\"city\"].astype(\"category\")\n",
    "\n",
    "# Check the datatype\n",
    "print(ds_jobs_transformed[\"city\"].dtype)"
   ]
  },
  {
   "cell_type": "code",
   "execution_count": null,
   "id": "cbc81076",
   "metadata": {},
   "outputs": [
    {
     "name": "stdout",
     "output_type": "stream",
     "text": [
      "major_discipline\n",
      "STEM               14492\n",
      "No information      2813\n",
      "Humanities           669\n",
      "Other                381\n",
      "Business Degree      327\n",
      "Arts                 253\n",
      "No Major             223\n",
      "Name: count, dtype: int64\n",
      "category\n"
     ]
    }
   ],
   "source": [
    "# Fill missing values\n",
    "ds_jobs_transformed[\"major_discipline\"] = ds_jobs_transformed[\"major_discipline\"].fillna(\"No information\")\n",
    "\n",
    "# Check if there are no null values\n",
    "print(ds_jobs_transformed[\"major_discipline\"].value_counts(dropna=False))\n",
    "\n",
    "# Change the datatype to category\n",
    "ds_jobs_transformed[\"major_discipline\"] = ds_jobs_transformed[\"major_discipline\"].astype(\"category\")\n",
    "\n",
    "# Check the datatype\n",
    "print(ds_jobs_transformed[\"major_discipline\"].dtype)\n"
   ]
  },
  {
   "cell_type": "code",
   "execution_count": null,
   "id": "9e8b4ed2",
   "metadata": {},
   "outputs": [
    {
     "name": "stdout",
     "output_type": "stream",
     "text": [
      "company_type\n",
      "Pvt Ltd                9817\n",
      "No information         6140\n",
      "Funded Startup         1001\n",
      "Public Sector           955\n",
      "Early Stage Startup     603\n",
      "NGO                     521\n",
      "Other                   121\n",
      "Name: count, dtype: int64\n",
      "category\n"
     ]
    }
   ],
   "source": [
    "# Fill missing values\n",
    "ds_jobs_transformed[\"company_type\"] = ds_jobs_transformed[\"company_type\"].fillna(\"No information\")\n",
    "\n",
    "# Check if there are no null values\n",
    "print(ds_jobs_transformed[\"company_type\"].value_counts(dropna=False))\n",
    "\n",
    "# Change the datatype to category\n",
    "ds_jobs_transformed[\"company_type\"] = ds_jobs_transformed[\"company_type\"].astype(\"category\")\n",
    "\n",
    "# Check the datatype\n",
    "\n",
    "print(ds_jobs_transformed[\"company_type\"].dtype)"
   ]
  },
  {
   "cell_type": "markdown",
   "id": "3bc189e1",
   "metadata": {},
   "source": [
    "##### Columns containing ordinal categorical data must be stored as ordered categories, and not mapped to numerical values, with an order that reflects the natural order of the column"
   ]
  },
  {
   "cell_type": "code",
   "execution_count": null,
   "id": "9263065f",
   "metadata": {},
   "outputs": [
    {
     "name": "stdout",
     "output_type": "stream",
     "text": [
      "enrolled_university\n",
      "no_enrollment       1960\n",
      "Part time course     103\n",
      "Full time course     122\n",
      "No information        16\n",
      "Name: count, dtype: int64\n",
      "category\n"
     ]
    }
   ],
   "source": [
    "# Fill missing values\n",
    "ds_jobs_transformed[\"enrolled_university\"] = ds_jobs_transformed[\"enrolled_university\"].fillna(\"No information\")\n",
    "\n",
    "# Change the datatype to category\n",
    "ds_jobs_transformed[\"enrolled_university\"] = ds_jobs_transformed[\"enrolled_university\"].astype(\"category\")\n",
    "\n",
    "# Re-order the categories\n",
    "ds_jobs_transformed[\"enrolled_university\"] = ds_jobs_transformed[\"enrolled_university\"].cat.reorder_categories(\n",
    "    new_categories=[\"no_enrollment\",\"Part time course\",\"Full time course\",\"No information\"],\n",
    "    ordered=True\n",
    ")\n",
    "\n",
    "# Verify the ordered categories\n",
    "print(ds_jobs_transformed[\"enrolled_university\"].value_counts(sort=False))\n",
    "\n",
    "# Check the datatype\n",
    "print(ds_jobs_transformed[\"enrolled_university\"].dtype)\n",
    "\n",
    "\n"
   ]
  },
  {
   "cell_type": "code",
   "execution_count": 111,
   "id": "09284cc3",
   "metadata": {},
   "outputs": [
    {
     "name": "stdout",
     "output_type": "stream",
     "text": [
      "education_level\n",
      "Primary School       7\n",
      "High School         75\n",
      "Graduate          1243\n",
      "Masters            744\n",
      "Phd                115\n",
      "No information      17\n",
      "Name: count, dtype: int64\n",
      "category\n"
     ]
    }
   ],
   "source": [
    "# Fill missing values\n",
    "ds_jobs_transformed[\"education_level\"] = ds_jobs_transformed[\"education_level\"].fillna(\"No information\")\n",
    "\n",
    "# Change the datatype to category\n",
    "ds_jobs_transformed[\"education_level\"] = ds_jobs_transformed[\"education_level\"].astype(\"category\")\n",
    "\n",
    "# Re-order the categories\n",
    "ds_jobs_transformed[\"education_level\"] = ds_jobs_transformed[\"education_level\"].cat.reorder_categories(\n",
    "    new_categories=[\"Primary School\",\"High School\",\"Graduate\",\"Masters\",\"Phd\",\"No information\"],\n",
    "    ordered=True,\n",
    ")\n",
    "# Verify the ordered categories\n",
    "print(ds_jobs_transformed[\"education_level\"].value_counts(sort=False))\n",
    "\n",
    "# Check the datatype\n",
    "print(ds_jobs_transformed[\"education_level\"].dtype)"
   ]
  },
  {
   "cell_type": "code",
   "execution_count": 112,
   "id": "bd37d187",
   "metadata": {},
   "outputs": [
    {
     "name": "stdout",
     "output_type": "stream",
     "text": [
      "company_size\n",
      "<10                  0\n",
      "10-49                0\n",
      "50-99                0\n",
      "100-499              0\n",
      "500-999              0\n",
      "1000-4999          796\n",
      "5000-9999          310\n",
      "10000+            1095\n",
      "No information       0\n",
      "Name: count, dtype: int64\n",
      "category\n"
     ]
    }
   ],
   "source": [
    "# Fill missing values\n",
    "ds_jobs_transformed[\"company_size\"] = ds_jobs_transformed[\"company_size\"].fillna(\"No information\")\n",
    "\n",
    "# Change the datatype to category\n",
    "ds_jobs_transformed[\"company_size\"] = ds_jobs_transformed[\"company_size\"].astype(\"category\")\n",
    "\n",
    "# Re-order the categories\n",
    "ds_jobs_transformed[\"company_size\"] = ds_jobs_transformed[\"company_size\"].cat.reorder_categories(\n",
    "    new_categories=[\"<10\",\"10-49\",\"50-99\",\"100-499\",\"500-999\",\"1000-4999\",\"5000-9999\",\"10000+\",\"No information\"],\n",
    "    ordered=True\n",
    ")\n",
    "# Verify the ordered categories\n",
    "print(ds_jobs_transformed[\"company_size\"].value_counts(sort=False))\n",
    "\n",
    "# Check the datatype\n",
    "print(ds_jobs_transformed[\"company_size\"].dtype)"
   ]
  },
  {
   "cell_type": "code",
   "execution_count": null,
   "id": "a2735250",
   "metadata": {},
   "outputs": [
    {
     "name": "stdout",
     "output_type": "stream",
     "text": [
      "experience\n",
      "<1                 522\n",
      "1-5               5863\n",
      "6-9               4026\n",
      "10-15             3814\n",
      "16-20             1582\n",
      ">20               3286\n",
      "No information      65\n",
      "Name: count, dtype: int64\n"
     ]
    }
   ],
   "source": [
    "# Temporarily replace the <20 to an integer\n",
    "ds_jobs_transformed[\"experience\"] = ds_jobs_transformed[\"experience\"].str.replace(\">20\",\"21\",regex=False)\n",
    "\n",
    "# Temporarily replace the <1 to an integer\n",
    "ds_jobs_transformed[\"experience\"] = ds_jobs_transformed[\"experience\"].str.replace(\"<1\",\"0\",regex=False)\n",
    "\n",
    "# Fill null values with an integer\n",
    "ds_jobs_transformed[\"experience\"] = ds_jobs_transformed[\"experience\"].fillna(\"-1\")\n",
    "\n",
    "# Change the datatype to int\n",
    "ds_jobs_transformed[\"experience\"] = ds_jobs_transformed[\"experience\"].astype(int)\n",
    "\n",
    "# Create a list for the experience groups\n",
    "experience_groups = [\"<1\",\"1-5\",\"6-9\",\"10-15\",\"16-20\",\">20\",\"No information\"]\n",
    "\n",
    "# Create a list of conditions for the experience groups\n",
    "conditions = [\n",
    "    (ds_jobs_transformed[\"experience\"] == 0),\n",
    "    ((ds_jobs_transformed[\"experience\"] >= 1) & (ds_jobs_transformed[\"experience\"] <= 5)),\n",
    "    ((ds_jobs_transformed[\"experience\"] >= 6) & (ds_jobs_transformed[\"experience\"] <= 9)),\n",
    "    ((ds_jobs_transformed[\"experience\"] >= 10) & (ds_jobs_transformed[\"experience\"] <= 15)),\n",
    "    ((ds_jobs_transformed[\"experience\"] >= 16) & (ds_jobs_transformed[\"experience\"] <= 20)),\n",
    "     (ds_jobs_transformed[\"experience\"] > 20),\n",
    "     (ds_jobs_transformed[\"experience\"] == -1)\n",
    "]\n",
    "# Change the values in the experience column based on the conditions\n",
    "ds_jobs_transformed[\"experience\"] = np.select(conditions,experience_groups,default=\"No information\")\n",
    "\n",
    "# Change the datatyoe to category\n",
    "ds_jobs_transformed[\"experience\"] = ds_jobs_transformed[\"experience\"].astype(\"category\")\n",
    "\n",
    "# Re-order the categories\n",
    "ds_jobs_transformed[\"experience\"] = ds_jobs_transformed[\"experience\"].cat.reorder_categories(\n",
    "    new_categories=[\"<1\",\"1-5\",\"6-9\",\"10-15\",\"16-20\",\">20\",\"No information\"],\n",
    "    ordered=True\n",
    ")\n",
    "# Verify the ordered categories\n",
    "print(ds_jobs_transformed[\"experience\"].value_counts(sort=False))\n",
    "\n"
   ]
  },
  {
   "cell_type": "code",
   "execution_count": null,
   "id": "e34483c6",
   "metadata": {},
   "outputs": [
    {
     "name": "stdout",
     "output_type": "stream",
     "text": [
      "last_new_job\n",
      "never             2452\n",
      "1                 8040\n",
      "2                 2900\n",
      "3                 1024\n",
      "4                 1029\n",
      ">4                3290\n",
      "No information     423\n",
      "Name: count, dtype: int64\n"
     ]
    }
   ],
   "source": [
    "# Fill missing values\n",
    "ds_jobs_transformed[\"last_new_job\"] = ds_jobs_transformed[\"last_new_job\"].fillna(\"No information\")\n",
    "\n",
    "# Change datatype to category\n",
    "ds_jobs_transformed[\"last_new_job\"] = ds_jobs_transformed[\"last_new_job\"].astype(\"category\")\n",
    "\n",
    "# Re-order the categories\n",
    "ds_jobs_transformed[\"last_new_job\"] = ds_jobs_transformed[\"last_new_job\"].cat.reorder_categories(\n",
    "    new_categories=[\"never\",\"1\",\"2\",\"3\",\"4\",\">4\",\"No information\"],\n",
    "    ordered=True\n",
    ")\n",
    "# Check the ordered categories\n",
    "print(ds_jobs_transformed[\"last_new_job\"].value_counts(sort=False))"
   ]
  },
  {
   "cell_type": "markdown",
   "id": "ad6be0c5",
   "metadata": {},
   "source": [
    "##### The DataFrame should be filtered to only contain students with 10 or more years of experience at companies with at least 1000 employees, as their recruiter base is suited to more experienced professionals at enterprise companies"
   ]
  },
  {
   "cell_type": "code",
   "execution_count": null,
   "id": "77310704",
   "metadata": {},
   "outputs": [
    {
     "name": "stderr",
     "output_type": "stream",
     "text": [
      "c:\\Users\\Kendot\\Documents\\Code\\Data Camp Projects\\DataCamp-Projects\\venv\\Lib\\site-packages\\pandas\\io\\formats\\format.py:1458: RuntimeWarning: overflow encountered in cast\n",
      "  has_large_values = (abs_vals > 1e6).any()\n"
     ]
    },
    {
     "data": {
      "text/html": [
       "<div>\n",
       "<style scoped>\n",
       "    .dataframe tbody tr th:only-of-type {\n",
       "        vertical-align: middle;\n",
       "    }\n",
       "\n",
       "    .dataframe tbody tr th {\n",
       "        vertical-align: top;\n",
       "    }\n",
       "\n",
       "    .dataframe thead th {\n",
       "        text-align: right;\n",
       "    }\n",
       "</style>\n",
       "<table border=\"1\" class=\"dataframe\">\n",
       "  <thead>\n",
       "    <tr style=\"text-align: right;\">\n",
       "      <th></th>\n",
       "      <th>student_id</th>\n",
       "      <th>city</th>\n",
       "      <th>city_development_index</th>\n",
       "      <th>gender</th>\n",
       "      <th>relevant_experience</th>\n",
       "      <th>enrolled_university</th>\n",
       "      <th>education_level</th>\n",
       "      <th>major_discipline</th>\n",
       "      <th>experience</th>\n",
       "      <th>company_size</th>\n",
       "      <th>company_type</th>\n",
       "      <th>last_new_job</th>\n",
       "      <th>training_hours</th>\n",
       "      <th>job_change</th>\n",
       "    </tr>\n",
       "  </thead>\n",
       "  <tbody>\n",
       "    <tr>\n",
       "      <th>9</th>\n",
       "      <td>699</td>\n",
       "      <td>city_103</td>\n",
       "      <td>0.919922</td>\n",
       "      <td>Prefer not to say</td>\n",
       "      <td>True</td>\n",
       "      <td>no_enrollment</td>\n",
       "      <td>Graduate</td>\n",
       "      <td>STEM</td>\n",
       "      <td>16-20</td>\n",
       "      <td>10000+</td>\n",
       "      <td>Pvt Ltd</td>\n",
       "      <td>&gt;4</td>\n",
       "      <td>123</td>\n",
       "      <td>False</td>\n",
       "    </tr>\n",
       "    <tr>\n",
       "      <th>12</th>\n",
       "      <td>25619</td>\n",
       "      <td>city_61</td>\n",
       "      <td>0.913086</td>\n",
       "      <td>Male</td>\n",
       "      <td>True</td>\n",
       "      <td>no_enrollment</td>\n",
       "      <td>Graduate</td>\n",
       "      <td>STEM</td>\n",
       "      <td>&gt;20</td>\n",
       "      <td>1000-4999</td>\n",
       "      <td>Pvt Ltd</td>\n",
       "      <td>3</td>\n",
       "      <td>23</td>\n",
       "      <td>False</td>\n",
       "    </tr>\n",
       "    <tr>\n",
       "      <th>31</th>\n",
       "      <td>22293</td>\n",
       "      <td>city_103</td>\n",
       "      <td>0.919922</td>\n",
       "      <td>Male</td>\n",
       "      <td>True</td>\n",
       "      <td>Part time course</td>\n",
       "      <td>Graduate</td>\n",
       "      <td>STEM</td>\n",
       "      <td>16-20</td>\n",
       "      <td>5000-9999</td>\n",
       "      <td>Pvt Ltd</td>\n",
       "      <td>&gt;4</td>\n",
       "      <td>141</td>\n",
       "      <td>False</td>\n",
       "    </tr>\n",
       "    <tr>\n",
       "      <th>34</th>\n",
       "      <td>26494</td>\n",
       "      <td>city_16</td>\n",
       "      <td>0.910156</td>\n",
       "      <td>Male</td>\n",
       "      <td>True</td>\n",
       "      <td>no_enrollment</td>\n",
       "      <td>Graduate</td>\n",
       "      <td>Business Degree</td>\n",
       "      <td>10-15</td>\n",
       "      <td>5000-9999</td>\n",
       "      <td>Pvt Ltd</td>\n",
       "      <td>3</td>\n",
       "      <td>145</td>\n",
       "      <td>False</td>\n",
       "    </tr>\n",
       "    <tr>\n",
       "      <th>40</th>\n",
       "      <td>2547</td>\n",
       "      <td>city_114</td>\n",
       "      <td>0.925781</td>\n",
       "      <td>Female</td>\n",
       "      <td>True</td>\n",
       "      <td>Full time course</td>\n",
       "      <td>Masters</td>\n",
       "      <td>STEM</td>\n",
       "      <td>16-20</td>\n",
       "      <td>1000-4999</td>\n",
       "      <td>Public Sector</td>\n",
       "      <td>2</td>\n",
       "      <td>14</td>\n",
       "      <td>False</td>\n",
       "    </tr>\n",
       "  </tbody>\n",
       "</table>\n",
       "</div>"
      ],
      "text/plain": [
       "    student_id      city  city_development_index             gender  \\\n",
       "9          699  city_103                0.919922  Prefer not to say   \n",
       "12       25619   city_61                0.913086               Male   \n",
       "31       22293  city_103                0.919922               Male   \n",
       "34       26494   city_16                0.910156               Male   \n",
       "40        2547  city_114                0.925781             Female   \n",
       "\n",
       "    relevant_experience enrolled_university education_level major_discipline  \\\n",
       "9                  True       no_enrollment        Graduate             STEM   \n",
       "12                 True       no_enrollment        Graduate             STEM   \n",
       "31                 True    Part time course        Graduate             STEM   \n",
       "34                 True       no_enrollment        Graduate  Business Degree   \n",
       "40                 True    Full time course         Masters             STEM   \n",
       "\n",
       "   experience company_size   company_type last_new_job  training_hours  \\\n",
       "9       16-20       10000+        Pvt Ltd           >4             123   \n",
       "12        >20    1000-4999        Pvt Ltd            3              23   \n",
       "31      16-20    5000-9999        Pvt Ltd           >4             141   \n",
       "34      10-15    5000-9999        Pvt Ltd            3             145   \n",
       "40      16-20    1000-4999  Public Sector            2              14   \n",
       "\n",
       "    job_change  \n",
       "9        False  \n",
       "12       False  \n",
       "31       False  \n",
       "34       False  \n",
       "40       False  "
      ]
     },
     "execution_count": 107,
     "metadata": {},
     "output_type": "execute_result"
    }
   ],
   "source": [
    "# Filter the data based on the conditions provided\n",
    "ds_jobs_transformed = ds_jobs_transformed[\n",
    "    (ds_jobs_transformed[\"experience\"] >= \"10-15\") &\n",
    "    (ds_jobs_transformed[\"experience\"] != \"No information\") &\n",
    "    (ds_jobs_transformed[\"company_size\"] >= \"1000-4999\") &\n",
    "    (ds_jobs_transformed[\"company_size\"] != \"No information\")\n",
    "]\n",
    "\n",
    "# Print the first few rows\n",
    "ds_jobs_transformed.head()"
   ]
  },
  {
   "cell_type": "code",
   "execution_count": null,
   "id": "9896cd79",
   "metadata": {},
   "outputs": [
    {
     "name": "stdout",
     "output_type": "stream",
     "text": [
      "<class 'pandas.core.frame.DataFrame'>\n",
      "RangeIndex: 19158 entries, 0 to 19157\n",
      "Data columns (total 14 columns):\n",
      " #   Column                  Non-Null Count  Dtype  \n",
      "---  ------                  --------------  -----  \n",
      " 0   student_id              19158 non-null  int64  \n",
      " 1   city                    19158 non-null  object \n",
      " 2   city_development_index  19158 non-null  float64\n",
      " 3   gender                  14650 non-null  object \n",
      " 4   relevant_experience     19158 non-null  object \n",
      " 5   enrolled_university     18772 non-null  object \n",
      " 6   education_level         18698 non-null  object \n",
      " 7   major_discipline        16345 non-null  object \n",
      " 8   experience              19093 non-null  object \n",
      " 9   company_size            13220 non-null  object \n",
      " 10  company_type            13018 non-null  object \n",
      " 11  last_new_job            18735 non-null  object \n",
      " 12  training_hours          19158 non-null  int64  \n",
      " 13  job_change              19158 non-null  float64\n",
      "dtypes: float64(2), int64(2), object(10)\n",
      "memory usage: 2.0+ MB\n"
     ]
    }
   ],
   "source": [
    "# Check the memory usage of the original dataset\n",
    "ds_jobs.info()"
   ]
  },
  {
   "cell_type": "code",
   "execution_count": null,
   "id": "835d6688",
   "metadata": {},
   "outputs": [
    {
     "name": "stdout",
     "output_type": "stream",
     "text": [
      "<class 'pandas.core.frame.DataFrame'>\n",
      "Index: 8747 entries, 0 to 19155\n",
      "Data columns (total 14 columns):\n",
      " #   Column                  Non-Null Count  Dtype   \n",
      "---  ------                  --------------  -----   \n",
      " 0   student_id              8747 non-null   int32   \n",
      " 1   city                    8747 non-null   category\n",
      " 2   city_development_index  8747 non-null   float16 \n",
      " 3   gender                  8747 non-null   category\n",
      " 4   relevant_experience     8747 non-null   bool    \n",
      " 5   enrolled_university     8747 non-null   category\n",
      " 6   education_level         8747 non-null   category\n",
      " 7   major_discipline        8747 non-null   category\n",
      " 8   experience              8747 non-null   category\n",
      " 9   company_size            8747 non-null   category\n",
      " 10  company_type            8747 non-null   category\n",
      " 11  last_new_job            8747 non-null   category\n",
      " 12  training_hours          8747 non-null   int32   \n",
      " 13  job_change              8747 non-null   bool    \n",
      "dtypes: bool(2), category(9), float16(1), int32(2)\n",
      "memory usage: 255.1 KB\n"
     ]
    }
   ],
   "source": [
    "# Check the memory usage of the transformed dataset\n",
    "ds_jobs_transformed.info()"
   ]
  }
 ],
 "metadata": {
  "editor": "DataLab",
  "kernelspec": {
   "display_name": "venv",
   "language": "python",
   "name": "python3"
  },
  "language_info": {
   "codemirror_mode": {
    "name": "ipython",
    "version": 3
   },
   "file_extension": ".py",
   "mimetype": "text/x-python",
   "name": "python",
   "nbconvert_exporter": "python",
   "pygments_lexer": "ipython3",
   "version": "3.13.0"
  }
 },
 "nbformat": 4,
 "nbformat_minor": 5
}
